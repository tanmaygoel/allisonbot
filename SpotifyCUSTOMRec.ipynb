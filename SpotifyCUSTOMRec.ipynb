{
 "cells": [
  {
   "cell_type": "code",
   "execution_count": 141,
   "metadata": {
    "collapsed": true
   },
   "outputs": [],
   "source": [
    "import pandas\n",
    "import numpy as np"
   ]
  },
  {
   "cell_type": "code",
   "execution_count": 142,
   "metadata": {},
   "outputs": [],
   "source": [
    "song_df = pandas.read_excel('SpotifyFeatures.xlsx')"
   ]
  },
  {
   "cell_type": "code",
   "execution_count": 165,
   "metadata": {},
   "outputs": [
    {
     "name": "stdout",
     "output_type": "stream",
     "text": [
      "Please tell me your favorite Artist AC/DC\n",
      "Playing a popular AC/DC song\n"
     ]
    }
   ],
   "source": [
    "var= input(\"Please tell me your favorite Artist \")\n",
    "print(\"Playing a popular\", var, \"song\")"
   ]
  },
  {
   "cell_type": "code",
   "execution_count": 166,
   "metadata": {},
   "outputs": [
    {
     "name": "stdout",
     "output_type": "stream",
     "text": [
      "Now playing Highway to Hell\n"
     ]
    }
   ],
   "source": [
    "custom_song_df = song_df.loc[song_df['artist_name'] == var]\n",
    "custom_song_df = custom_song_df.drop_duplicates()\n",
    "custom_song_df.head()\n",
    "custom_song_df.sort_values(by='popularity', ascending = False) \n",
    "fav = custom_song_df.iloc[0,2]\n",
    "genre = custom_song_df.iloc[0,0]\n",
    "print(\"Now playing\", fav)"
   ]
  },
  {
   "cell_type": "code",
   "execution_count": 167,
   "metadata": {},
   "outputs": [
    {
     "name": "stdout",
     "output_type": "stream",
     "text": [
      "Now Recommending five similar songs with genre: Rock\n"
     ]
    }
   ],
   "source": [
    "print(\"Now Recommending five similar songs with genre:\", genre)"
   ]
  },
  {
   "cell_type": "code",
   "execution_count": 168,
   "metadata": {
    "scrolled": true
   },
   "outputs": [
    {
     "data": {
      "text/plain": [
       "9272"
      ]
     },
     "execution_count": 168,
     "metadata": {},
     "output_type": "execute_result"
    }
   ],
   "source": [
    "custom_song_df2 = song_df.loc[song_df['genre'] == genre]\n",
    "len(custom_song_df2)"
   ]
  },
  {
   "cell_type": "code",
   "execution_count": 169,
   "metadata": {},
   "outputs": [
    {
     "data": {
      "text/html": [
       "<div>\n",
       "<style>\n",
       "    .dataframe thead tr:only-child th {\n",
       "        text-align: right;\n",
       "    }\n",
       "\n",
       "    .dataframe thead th {\n",
       "        text-align: left;\n",
       "    }\n",
       "\n",
       "    .dataframe tbody tr th {\n",
       "        vertical-align: top;\n",
       "    }\n",
       "</style>\n",
       "<table border=\"1\" class=\"dataframe\">\n",
       "  <thead>\n",
       "    <tr style=\"text-align: right;\">\n",
       "      <th></th>\n",
       "      <th>genre</th>\n",
       "      <th>artist_name</th>\n",
       "      <th>track_name</th>\n",
       "      <th>track_id</th>\n",
       "      <th>popularity</th>\n",
       "      <th>acousticness</th>\n",
       "      <th>danceability</th>\n",
       "      <th>duration_ms</th>\n",
       "      <th>energy</th>\n",
       "      <th>instrumentalness</th>\n",
       "      <th>key</th>\n",
       "      <th>liveness</th>\n",
       "      <th>loudness</th>\n",
       "      <th>mode</th>\n",
       "      <th>speechiness</th>\n",
       "      <th>tempo</th>\n",
       "      <th>time_signature</th>\n",
       "      <th>valence</th>\n",
       "    </tr>\n",
       "  </thead>\n",
       "  <tbody>\n",
       "    <tr>\n",
       "      <th>216647</th>\n",
       "      <td>Rock</td>\n",
       "      <td>The 1975</td>\n",
       "      <td>Menswear</td>\n",
       "      <td>1v07ywlVYd02pOCnXRBDNA</td>\n",
       "      <td>54</td>\n",
       "      <td>0.5130</td>\n",
       "      <td>0.713</td>\n",
       "      <td>206738</td>\n",
       "      <td>0.536</td>\n",
       "      <td>0.0246</td>\n",
       "      <td>C#</td>\n",
       "      <td>0.087</td>\n",
       "      <td>-10.108</td>\n",
       "      <td>Major</td>\n",
       "      <td>0.0630</td>\n",
       "      <td>97.012</td>\n",
       "      <td>2019-04-04 00:00:00</td>\n",
       "      <td>0.158</td>\n",
       "    </tr>\n",
       "    <tr>\n",
       "      <th>216076</th>\n",
       "      <td>Rock</td>\n",
       "      <td>Big Thief</td>\n",
       "      <td>Mythological Beauty</td>\n",
       "      <td>6XVDZoNVGvWhfSoqQhjJZI</td>\n",
       "      <td>58</td>\n",
       "      <td>0.3010</td>\n",
       "      <td>0.629</td>\n",
       "      <td>306760</td>\n",
       "      <td>0.579</td>\n",
       "      <td>0.2200</td>\n",
       "      <td>A#</td>\n",
       "      <td>0.116</td>\n",
       "      <td>-8.544</td>\n",
       "      <td>Major</td>\n",
       "      <td>0.0255</td>\n",
       "      <td>106.673</td>\n",
       "      <td>2019-04-04 00:00:00</td>\n",
       "      <td>0.475</td>\n",
       "    </tr>\n",
       "    <tr>\n",
       "      <th>165242</th>\n",
       "      <td>Rock</td>\n",
       "      <td>Panic! At The Disco</td>\n",
       "      <td>I Write Sins Not Tragedies</td>\n",
       "      <td>4bPQs0PHn4xbipzdPfn6du</td>\n",
       "      <td>77</td>\n",
       "      <td>0.0938</td>\n",
       "      <td>0.567</td>\n",
       "      <td>187613</td>\n",
       "      <td>0.795</td>\n",
       "      <td>0.0000</td>\n",
       "      <td>A</td>\n",
       "      <td>0.114</td>\n",
       "      <td>-4.985</td>\n",
       "      <td>Minor</td>\n",
       "      <td>0.1340</td>\n",
       "      <td>170.060</td>\n",
       "      <td>2019-04-04 00:00:00</td>\n",
       "      <td>0.635</td>\n",
       "    </tr>\n",
       "    <tr>\n",
       "      <th>214791</th>\n",
       "      <td>Rock</td>\n",
       "      <td>The Beach Boys</td>\n",
       "      <td>Wouldn't It Be Nice</td>\n",
       "      <td>6VojZJpMyuKClbwyilWlQj</td>\n",
       "      <td>53</td>\n",
       "      <td>0.7240</td>\n",
       "      <td>0.385</td>\n",
       "      <td>153867</td>\n",
       "      <td>0.657</td>\n",
       "      <td>0.0000</td>\n",
       "      <td>F</td>\n",
       "      <td>0.105</td>\n",
       "      <td>-6.975</td>\n",
       "      <td>Major</td>\n",
       "      <td>0.0342</td>\n",
       "      <td>124.895</td>\n",
       "      <td>2019-04-04 00:00:00</td>\n",
       "      <td>0.672</td>\n",
       "    </tr>\n",
       "    <tr>\n",
       "      <th>215841</th>\n",
       "      <td>Rock</td>\n",
       "      <td>Bob Dylan</td>\n",
       "      <td>Subterranean Homesick Blues</td>\n",
       "      <td>6k9DUKMJpWvu6eFG3O64Lg</td>\n",
       "      <td>55</td>\n",
       "      <td>0.7020</td>\n",
       "      <td>0.576</td>\n",
       "      <td>141293</td>\n",
       "      <td>0.727</td>\n",
       "      <td>0.0000</td>\n",
       "      <td>E</td>\n",
       "      <td>0.324</td>\n",
       "      <td>-9.973</td>\n",
       "      <td>Minor</td>\n",
       "      <td>0.0500</td>\n",
       "      <td>173.854</td>\n",
       "      <td>2019-04-04 00:00:00</td>\n",
       "      <td>0.751</td>\n",
       "    </tr>\n",
       "  </tbody>\n",
       "</table>\n",
       "</div>"
      ],
      "text/plain": [
       "       genre          artist_name                   track_name  \\\n",
       "216647  Rock             The 1975                     Menswear   \n",
       "216076  Rock            Big Thief          Mythological Beauty   \n",
       "165242  Rock  Panic! At The Disco   I Write Sins Not Tragedies   \n",
       "214791  Rock       The Beach Boys          Wouldn't It Be Nice   \n",
       "215841  Rock            Bob Dylan  Subterranean Homesick Blues   \n",
       "\n",
       "                      track_id  popularity  acousticness  danceability  \\\n",
       "216647  1v07ywlVYd02pOCnXRBDNA          54        0.5130         0.713   \n",
       "216076  6XVDZoNVGvWhfSoqQhjJZI          58        0.3010         0.629   \n",
       "165242  4bPQs0PHn4xbipzdPfn6du          77        0.0938         0.567   \n",
       "214791  6VojZJpMyuKClbwyilWlQj          53        0.7240         0.385   \n",
       "215841  6k9DUKMJpWvu6eFG3O64Lg          55        0.7020         0.576   \n",
       "\n",
       "        duration_ms  energy  instrumentalness key  liveness  loudness   mode  \\\n",
       "216647       206738   0.536            0.0246  C#     0.087   -10.108  Major   \n",
       "216076       306760   0.579            0.2200  A#     0.116    -8.544  Major   \n",
       "165242       187613   0.795            0.0000   A     0.114    -4.985  Minor   \n",
       "214791       153867   0.657            0.0000   F     0.105    -6.975  Major   \n",
       "215841       141293   0.727            0.0000   E     0.324    -9.973  Minor   \n",
       "\n",
       "        speechiness    tempo       time_signature  valence  \n",
       "216647       0.0630   97.012  2019-04-04 00:00:00    0.158  \n",
       "216076       0.0255  106.673  2019-04-04 00:00:00    0.475  \n",
       "165242       0.1340  170.060  2019-04-04 00:00:00    0.635  \n",
       "214791       0.0342  124.895  2019-04-04 00:00:00    0.672  \n",
       "215841       0.0500  173.854  2019-04-04 00:00:00    0.751  "
      ]
     },
     "execution_count": 169,
     "metadata": {},
     "output_type": "execute_result"
    }
   ],
   "source": [
    "custom_song_df2 = custom_song_df2.sample(n=5)\n",
    "recommended_list = custom_song_df2.sort_values(by='valence', ascending = True)\n",
    "custom_song_df2.sort_values(by='valence', ascending = True) \n"
   ]
  },
  {
   "cell_type": "code",
   "execution_count": 170,
   "metadata": {},
   "outputs": [
    {
     "data": {
      "text/html": [
       "<div>\n",
       "<style>\n",
       "    .dataframe thead tr:only-child th {\n",
       "        text-align: right;\n",
       "    }\n",
       "\n",
       "    .dataframe thead th {\n",
       "        text-align: left;\n",
       "    }\n",
       "\n",
       "    .dataframe tbody tr th {\n",
       "        vertical-align: top;\n",
       "    }\n",
       "</style>\n",
       "<table border=\"1\" class=\"dataframe\">\n",
       "  <thead>\n",
       "    <tr style=\"text-align: right;\">\n",
       "      <th></th>\n",
       "      <th>genre</th>\n",
       "      <th>artist_name</th>\n",
       "      <th>track_name</th>\n",
       "      <th>track_id</th>\n",
       "      <th>popularity</th>\n",
       "      <th>acousticness</th>\n",
       "      <th>danceability</th>\n",
       "      <th>duration_ms</th>\n",
       "      <th>energy</th>\n",
       "      <th>instrumentalness</th>\n",
       "      <th>key</th>\n",
       "      <th>liveness</th>\n",
       "      <th>loudness</th>\n",
       "      <th>mode</th>\n",
       "      <th>speechiness</th>\n",
       "      <th>tempo</th>\n",
       "      <th>time_signature</th>\n",
       "      <th>valence</th>\n",
       "    </tr>\n",
       "  </thead>\n",
       "  <tbody>\n",
       "    <tr>\n",
       "      <th>216647</th>\n",
       "      <td>Rock</td>\n",
       "      <td>The 1975</td>\n",
       "      <td>Menswear</td>\n",
       "      <td>1v07ywlVYd02pOCnXRBDNA</td>\n",
       "      <td>54</td>\n",
       "      <td>0.5130</td>\n",
       "      <td>0.713</td>\n",
       "      <td>206738</td>\n",
       "      <td>0.536</td>\n",
       "      <td>0.0246</td>\n",
       "      <td>C#</td>\n",
       "      <td>0.087</td>\n",
       "      <td>-10.108</td>\n",
       "      <td>Major</td>\n",
       "      <td>0.0630</td>\n",
       "      <td>97.012</td>\n",
       "      <td>2019-04-04 00:00:00</td>\n",
       "      <td>0.158</td>\n",
       "    </tr>\n",
       "    <tr>\n",
       "      <th>216076</th>\n",
       "      <td>Rock</td>\n",
       "      <td>Big Thief</td>\n",
       "      <td>Mythological Beauty</td>\n",
       "      <td>6XVDZoNVGvWhfSoqQhjJZI</td>\n",
       "      <td>58</td>\n",
       "      <td>0.3010</td>\n",
       "      <td>0.629</td>\n",
       "      <td>306760</td>\n",
       "      <td>0.579</td>\n",
       "      <td>0.2200</td>\n",
       "      <td>A#</td>\n",
       "      <td>0.116</td>\n",
       "      <td>-8.544</td>\n",
       "      <td>Major</td>\n",
       "      <td>0.0255</td>\n",
       "      <td>106.673</td>\n",
       "      <td>2019-04-04 00:00:00</td>\n",
       "      <td>0.475</td>\n",
       "    </tr>\n",
       "    <tr>\n",
       "      <th>165242</th>\n",
       "      <td>Rock</td>\n",
       "      <td>Panic! At The Disco</td>\n",
       "      <td>I Write Sins Not Tragedies</td>\n",
       "      <td>4bPQs0PHn4xbipzdPfn6du</td>\n",
       "      <td>77</td>\n",
       "      <td>0.0938</td>\n",
       "      <td>0.567</td>\n",
       "      <td>187613</td>\n",
       "      <td>0.795</td>\n",
       "      <td>0.0000</td>\n",
       "      <td>A</td>\n",
       "      <td>0.114</td>\n",
       "      <td>-4.985</td>\n",
       "      <td>Minor</td>\n",
       "      <td>0.1340</td>\n",
       "      <td>170.060</td>\n",
       "      <td>2019-04-04 00:00:00</td>\n",
       "      <td>0.635</td>\n",
       "    </tr>\n",
       "    <tr>\n",
       "      <th>214791</th>\n",
       "      <td>Rock</td>\n",
       "      <td>The Beach Boys</td>\n",
       "      <td>Wouldn't It Be Nice</td>\n",
       "      <td>6VojZJpMyuKClbwyilWlQj</td>\n",
       "      <td>53</td>\n",
       "      <td>0.7240</td>\n",
       "      <td>0.385</td>\n",
       "      <td>153867</td>\n",
       "      <td>0.657</td>\n",
       "      <td>0.0000</td>\n",
       "      <td>F</td>\n",
       "      <td>0.105</td>\n",
       "      <td>-6.975</td>\n",
       "      <td>Major</td>\n",
       "      <td>0.0342</td>\n",
       "      <td>124.895</td>\n",
       "      <td>2019-04-04 00:00:00</td>\n",
       "      <td>0.672</td>\n",
       "    </tr>\n",
       "    <tr>\n",
       "      <th>215841</th>\n",
       "      <td>Rock</td>\n",
       "      <td>Bob Dylan</td>\n",
       "      <td>Subterranean Homesick Blues</td>\n",
       "      <td>6k9DUKMJpWvu6eFG3O64Lg</td>\n",
       "      <td>55</td>\n",
       "      <td>0.7020</td>\n",
       "      <td>0.576</td>\n",
       "      <td>141293</td>\n",
       "      <td>0.727</td>\n",
       "      <td>0.0000</td>\n",
       "      <td>E</td>\n",
       "      <td>0.324</td>\n",
       "      <td>-9.973</td>\n",
       "      <td>Minor</td>\n",
       "      <td>0.0500</td>\n",
       "      <td>173.854</td>\n",
       "      <td>2019-04-04 00:00:00</td>\n",
       "      <td>0.751</td>\n",
       "    </tr>\n",
       "  </tbody>\n",
       "</table>\n",
       "</div>"
      ],
      "text/plain": [
       "       genre          artist_name                   track_name  \\\n",
       "216647  Rock             The 1975                     Menswear   \n",
       "216076  Rock            Big Thief          Mythological Beauty   \n",
       "165242  Rock  Panic! At The Disco   I Write Sins Not Tragedies   \n",
       "214791  Rock       The Beach Boys          Wouldn't It Be Nice   \n",
       "215841  Rock            Bob Dylan  Subterranean Homesick Blues   \n",
       "\n",
       "                      track_id  popularity  acousticness  danceability  \\\n",
       "216647  1v07ywlVYd02pOCnXRBDNA          54        0.5130         0.713   \n",
       "216076  6XVDZoNVGvWhfSoqQhjJZI          58        0.3010         0.629   \n",
       "165242  4bPQs0PHn4xbipzdPfn6du          77        0.0938         0.567   \n",
       "214791  6VojZJpMyuKClbwyilWlQj          53        0.7240         0.385   \n",
       "215841  6k9DUKMJpWvu6eFG3O64Lg          55        0.7020         0.576   \n",
       "\n",
       "        duration_ms  energy  instrumentalness key  liveness  loudness   mode  \\\n",
       "216647       206738   0.536            0.0246  C#     0.087   -10.108  Major   \n",
       "216076       306760   0.579            0.2200  A#     0.116    -8.544  Major   \n",
       "165242       187613   0.795            0.0000   A     0.114    -4.985  Minor   \n",
       "214791       153867   0.657            0.0000   F     0.105    -6.975  Major   \n",
       "215841       141293   0.727            0.0000   E     0.324    -9.973  Minor   \n",
       "\n",
       "        speechiness    tempo       time_signature  valence  \n",
       "216647       0.0630   97.012  2019-04-04 00:00:00    0.158  \n",
       "216076       0.0255  106.673  2019-04-04 00:00:00    0.475  \n",
       "165242       0.1340  170.060  2019-04-04 00:00:00    0.635  \n",
       "214791       0.0342  124.895  2019-04-04 00:00:00    0.672  \n",
       "215841       0.0500  173.854  2019-04-04 00:00:00    0.751  "
      ]
     },
     "execution_count": 170,
     "metadata": {},
     "output_type": "execute_result"
    }
   ],
   "source": [
    "recommended_list"
   ]
  },
  {
   "cell_type": "markdown",
   "metadata": {},
   "source": [
    "### Recommends 5 songs in ascending order of valence"
   ]
  },
  {
   "cell_type": "code",
   "execution_count": 172,
   "metadata": {},
   "outputs": [
    {
     "data": {
      "text/plain": [
       "216647                       Menswear\n",
       "216076            Mythological Beauty\n",
       "165242     I Write Sins Not Tragedies\n",
       "214791            Wouldn't It Be Nice\n",
       "215841    Subterranean Homesick Blues\n",
       "Name: track_name, dtype: object"
      ]
     },
     "execution_count": 172,
     "metadata": {},
     "output_type": "execute_result"
    }
   ],
   "source": [
    "recommended = recommended_list.iloc[0:,2]\n",
    "recommended"
   ]
  },
  {
   "cell_type": "markdown",
   "metadata": {},
   "source": []
  },
  {
   "cell_type": "code",
   "execution_count": null,
   "metadata": {
    "collapsed": true
   },
   "outputs": [],
   "source": []
  }
 ],
 "metadata": {
  "kernelspec": {
   "display_name": "Python 3",
   "language": "python",
   "name": "python3"
  },
  "language_info": {
   "codemirror_mode": {
    "name": "ipython",
    "version": 3
   },
   "file_extension": ".py",
   "mimetype": "text/x-python",
   "name": "python",
   "nbconvert_exporter": "python",
   "pygments_lexer": "ipython3",
   "version": "3.6.3"
  }
 },
 "nbformat": 4,
 "nbformat_minor": 2
}
